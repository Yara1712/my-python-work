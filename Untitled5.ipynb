{
  "nbformat": 4,
  "nbformat_minor": 0,
  "metadata": {
    "colab": {
      "name": "Untitled5.ipynb",
      "provenance": []
    },
    "kernelspec": {
      "name": "python3",
      "display_name": "Python 3"
    }
  },
  "cells": [
    {
      "cell_type": "code",
      "metadata": {
        "id": "7SiPBqy7S4db",
        "colab_type": "code",
        "colab": {
          "base_uri": "https://localhost:8080/",
          "height": 34
        },
        "outputId": "30574a37-b222-4b3c-88f7-5962a531ea72"
      },
      "source": [
        "print (4&3)"
      ],
      "execution_count": null,
      "outputs": [
        {
          "output_type": "stream",
          "text": [
            "0\n"
          ],
          "name": "stdout"
        }
      ]
    },
    {
      "cell_type": "code",
      "metadata": {
        "id": "ZS-2T9akYCSi",
        "colab_type": "code",
        "colab": {
          "base_uri": "https://localhost:8080/",
          "height": 34
        },
        "outputId": "e41c769a-b006-41b8-86ee-2e26f1df391e"
      },
      "source": [
        "print (\"hi\"+\"abc\")"
      ],
      "execution_count": null,
      "outputs": [
        {
          "output_type": "stream",
          "text": [
            "hiabc\n"
          ],
          "name": "stdout"
        }
      ]
    },
    {
      "cell_type": "code",
      "metadata": {
        "id": "sKAgl0_GY3_p",
        "colab_type": "code",
        "colab": {
          "base_uri": "https://localhost:8080/",
          "height": 68
        },
        "outputId": "6445162b-cdd1-4a1b-dea7-6ab080104ce9"
      },
      "source": [
        "a = (input(\"enter name  :\"))\n",
        "b = int(input(\"enter donation :\"))\n",
        "if (a==\" \"):\n",
        "  print(\"name required\")\n",
        "elif (b==\" \"):\n",
        "  print (\"donation required\")\n",
        "else:\n",
        "  print (\"thank you \"+ a + \" for your donations\")\n",
        "\n"
      ],
      "execution_count": null,
      "outputs": [
        {
          "output_type": "stream",
          "text": [
            "enter name  :yara\n",
            "enter donation :600\n",
            "thank you yara for your donations\n"
          ],
          "name": "stdout"
        }
      ]
    },
    {
      "cell_type": "code",
      "metadata": {
        "id": "8gw33zkRatLu",
        "colab_type": "code",
        "colab": {
          "base_uri": "https://localhost:8080/",
          "height": 204
        },
        "outputId": "71a2de10-f5c3-4735-e1bd-a1ca402679de"
      },
      "source": [
        "a = int(input(\"enter a number\"))\n",
        "print (a*1)\n",
        "print (a*2)\n",
        "print (a*3)\n",
        "print (a*4)\n",
        "print (a*5)\n",
        "print (a*6)\n",
        "print (a*7)\n",
        "print (a*8)\n",
        "print (a*9)\n",
        "print (a*10)"
      ],
      "execution_count": null,
      "outputs": [
        {
          "output_type": "stream",
          "text": [
            "enter a number3\n",
            "3\n",
            "6\n",
            "9\n",
            "12\n",
            "15\n",
            "18\n",
            "21\n",
            "24\n",
            "27\n",
            "30\n"
          ],
          "name": "stdout"
        }
      ]
    }
  ]
}