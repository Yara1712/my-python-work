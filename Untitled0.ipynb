{
  "nbformat": 4,
  "nbformat_minor": 0,
  "metadata": {
    "colab": {
      "name": "Untitled0.ipynb",
      "provenance": []
    },
    "kernelspec": {
      "name": "python3",
      "display_name": "Python 3"
    }
  },
  "cells": [
    {
      "cell_type": "code",
      "metadata": {
        "id": "S0U0onyax_f6",
        "colab_type": "code",
        "colab": {
          "base_uri": "https://localhost:8080/",
          "height": 119
        },
        "outputId": "445facda-081e-438f-84b9-c66afb920954"
      },
      "source": [
        " var_3 = 12346733\n",
        "var_4 = 5.78694734\n",
        "var_6 = \" python code \" \n",
        "print (var_3)\n",
        "print (var_4)\n",
        "print (var_6) #this will print my variable\n",
        "print (type(var_3))\n",
        "print (type(var_4))\n",
        "print (type(var_6))"
      ],
      "execution_count": null,
      "outputs": [
        {
          "output_type": "stream",
          "text": [
            "12346733\n",
            "5.78694734\n",
            " python code \n",
            "<class 'int'>\n",
            "<class 'float'>\n",
            "<class 'str'>\n"
          ],
          "name": "stdout"
        }
      ]
    },
    {
      "cell_type": "code",
      "metadata": {
        "id": "pHuFjKlC_S9T",
        "colab_type": "code",
        "colab": {
          "base_uri": "https://localhost:8080/",
          "height": 34
        },
        "outputId": "ca8408fa-6e19-48ff-d92c-f209fe63b48a"
      },
      "source": [
        "grade = 7\n",
        "name = (\"yara\")\n",
        "age = 13\n",
        "print (\"my name is\",name,\", i am in grade\",grade,\". i am almost\",age,)"
      ],
      "execution_count": null,
      "outputs": [
        {
          "output_type": "stream",
          "text": [
            "my name is yara , i am in grade 7 . i am almost 13\n"
          ],
          "name": "stdout"
        }
      ]
    },
    {
      "cell_type": "code",
      "metadata": {
        "id": "7VhELEvt30z2",
        "colab_type": "code",
        "colab": {
          "base_uri": "https://localhost:8080/",
          "height": 119
        },
        "outputId": "f49ae849-9e5b-49a2-c686-a2c1dcf0a330"
      },
      "source": [
        "print ( \"H\\n E\\n L\\n L\\n O\\n\" )"
      ],
      "execution_count": null,
      "outputs": [
        {
          "output_type": "stream",
          "text": [
            "H\n",
            " E\n",
            " L\n",
            " L\n",
            " O\n",
            "\n"
          ],
          "name": "stdout"
        }
      ]
    },
    {
      "cell_type": "code",
      "metadata": {
        "id": "bKAVeA43Ca6C",
        "colab_type": "code",
        "colab": {
          "base_uri": "https://localhost:8080/",
          "height": 34
        },
        "outputId": "9fc245aa-3405-45dd-ba62-f0922233f01d"
      },
      "source": [
        "grade = 7\n",
        "name = (\"yara\")\n",
        "print (\"i am in grade\",grade,\"my name is \", name )"
      ],
      "execution_count": null,
      "outputs": [
        {
          "output_type": "stream",
          "text": [
            "i am in grade 7 my name is  yara\n"
          ],
          "name": "stdout"
        }
      ]
    }
  ]
}