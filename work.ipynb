{
  "nbformat": 4,
  "nbformat_minor": 0,
  "metadata": {
    "colab": {
      "name": "work",
      "provenance": []
    },
    "kernelspec": {
      "name": "python3",
      "display_name": "Python 3"
    }
  },
  "cells": [
    {
      "cell_type": "code",
      "metadata": {
        "id": "HVbUXWOR4vno",
        "colab_type": "code",
        "colab": {
          "base_uri": "https://localhost:8080/",
          "height": 170
        },
        "outputId": "e7f7d8cb-31a2-4f5e-b5ce-9d845e220707"
      },
      "source": [
        "for x in range (10):\n",
        "  if ( x==5):\n",
        "    continue\n",
        "  print (x)"
      ],
      "execution_count": null,
      "outputs": [
        {
          "output_type": "stream",
          "text": [
            "0\n",
            "1\n",
            "2\n",
            "3\n",
            "4\n",
            "6\n",
            "7\n",
            "8\n",
            "9\n"
          ],
          "name": "stdout"
        }
      ]
    },
    {
      "cell_type": "code",
      "metadata": {
        "id": "5FS5KWm-Ah_I",
        "colab_type": "code",
        "colab": {
          "base_uri": "https://localhost:8080/",
          "height": 187
        },
        "outputId": "a102be67-0e3e-4bc4-b97a-d8b9eced585c"
      },
      "source": [
        "for x in range (10):\n",
        "  if ( x==5):\n",
        "    pass\n",
        "  print (x)"
      ],
      "execution_count": null,
      "outputs": [
        {
          "output_type": "stream",
          "text": [
            "0\n",
            "1\n",
            "2\n",
            "3\n",
            "4\n",
            "5\n",
            "6\n",
            "7\n",
            "8\n",
            "9\n"
          ],
          "name": "stdout"
        }
      ]
    },
    {
      "cell_type": "code",
      "metadata": {
        "id": "4vyv9XyID4Ei",
        "colab_type": "code",
        "colab": {
          "base_uri": "https://localhost:8080/",
          "height": 85
        },
        "outputId": "c7e7aab8-29ef-41b6-a96d-35465942ac1f"
      },
      "source": [
        "for y in range (7):\n",
        "  print (y)\n",
        "  if (y==3):\n",
        "    break\n",
        "else:\n",
        " print (\"hi\")   "
      ],
      "execution_count": null,
      "outputs": [
        {
          "output_type": "stream",
          "text": [
            "0\n",
            "1\n",
            "2\n",
            "3\n"
          ],
          "name": "stdout"
        }
      ]
    },
    {
      "cell_type": "code",
      "metadata": {
        "id": "nO44QuiwFD0e",
        "colab_type": "code",
        "colab": {
          "base_uri": "https://localhost:8080/",
          "height": 153
        },
        "outputId": "85543dc5-9fda-4141-b63b-d4e05f69e2c3"
      },
      "source": [
        "for y in range (7):\n",
        "  print (y)\n",
        "    \n",
        "else:\n",
        "      print (\"hi\") "
      ],
      "execution_count": null,
      "outputs": [
        {
          "output_type": "stream",
          "text": [
            "0\n",
            "1\n",
            "2\n",
            "3\n",
            "4\n",
            "5\n",
            "6\n",
            "hi\n"
          ],
          "name": "stdout"
        }
      ]
    },
    {
      "cell_type": "code",
      "metadata": {
        "id": "Wrn_PMIoFqpN",
        "colab_type": "code",
        "colab": {
          "base_uri": "https://localhost:8080/",
          "height": 85
        },
        "outputId": "178a28d4-c686-42c1-b8cf-0b45877874fc"
      },
      "source": [
        "n = int(input(\"enter number : \"))\n",
        "v = int(input(\"enter number: \"))\n",
        "a = input(\"enter an operation: \")\n",
        "if (a==(\"+\")):\n",
        "  print (n+v)\n",
        "elif (a==(\"-\")):\n",
        "  print (n-v)\n",
        "elif (a==(\"*\")):\n",
        "  print (n*v)\n",
        "elif (a==(\"/\")):\n",
        "  print (n/v)\n",
        "elif (a==(\"//\")):\n",
        "  print (n//v)\n",
        "elif (a==(\"%\")):\n",
        "  print (n%v)\n",
        "elif (a==(\"**\")):\n",
        "  print (n**v)\n",
        "\n",
        "\n"
      ],
      "execution_count": null,
      "outputs": [
        {
          "output_type": "stream",
          "text": [
            "enter number : 5\n",
            "enter number: 5\n",
            "enter an operation: +\n",
            "10\n"
          ],
          "name": "stdout"
        }
      ]
    },
    {
      "cell_type": "code",
      "metadata": {
        "id": "yN2t4iLBI-Lx",
        "colab_type": "code",
        "colab": {
          "base_uri": "https://localhost:8080/",
          "height": 51
        },
        "outputId": "d597397c-af65-4bbc-8169-adb216c285d8"
      },
      "source": [
        "a= int(input(\"enter prime number : \"))\n",
        "if (a%a==0 ):\n",
        "  print (\"prime number\")\n",
        "else:\n",
        "  print (\"error not a prime numbe\")\n"
      ],
      "execution_count": null,
      "outputs": [
        {
          "output_type": "stream",
          "text": [
            "enter prime number : 3\n",
            "prime number\n"
          ],
          "name": "stdout"
        }
      ]
    },
    {
      "cell_type": "code",
      "metadata": {
        "id": "89KscBAPKvQi",
        "colab_type": "code",
        "colab": {
          "base_uri": "https://localhost:8080/",
          "height": 51
        },
        "outputId": "362a23cc-a8d1-43a8-c501-22979b501fd0"
      },
      "source": [
        "a= int(input(\"enter number : \"))\n",
        "if (a%2==0):\n",
        "  print (\"even number\")\n",
        "else :\n",
        "  print (\"odd number\")\n",
        " "
      ],
      "execution_count": null,
      "outputs": [
        {
          "output_type": "stream",
          "text": [
            "enter number : 5\n",
            "odd number\n"
          ],
          "name": "stdout"
        }
      ]
    },
    {
      "cell_type": "code",
      "metadata": {
        "id": "QxvYBr8bLj56",
        "colab_type": "code",
        "colab": {
          "base_uri": "https://localhost:8080/",
          "height": 578
        },
        "outputId": "625c4e05-c892-41c1-8db0-17673417e98c"
      },
      "source": [
        "a = 3\n",
        "while (a<100):\n",
        "  print(a)\n",
        "  a=a+3\n",
        " \n"
      ],
      "execution_count": null,
      "outputs": [
        {
          "output_type": "stream",
          "text": [
            "3\n",
            "6\n",
            "9\n",
            "12\n",
            "15\n",
            "18\n",
            "21\n",
            "24\n",
            "27\n",
            "30\n",
            "33\n",
            "36\n",
            "39\n",
            "42\n",
            "45\n",
            "48\n",
            "51\n",
            "54\n",
            "57\n",
            "60\n",
            "63\n",
            "66\n",
            "69\n",
            "72\n",
            "75\n",
            "78\n",
            "81\n",
            "84\n",
            "87\n",
            "90\n",
            "93\n",
            "96\n",
            "99\n"
          ],
          "name": "stdout"
        }
      ]
    },
    {
      "cell_type": "code",
      "metadata": {
        "id": "2D41cCt0OZlt",
        "colab_type": "code",
        "colab": {
          "base_uri": "https://localhost:8080/",
          "height": 119
        },
        "outputId": "d183bcfe-8aca-4da7-f0ce-130ed1b01702"
      },
      "source": [
        "\n",
        "a = int(input(\"enter number : \"))\n",
        "for a in range (a,0,-1):\n",
        "  print (a)\n",
        "a = a*-1"
      ],
      "execution_count": null,
      "outputs": [
        {
          "output_type": "stream",
          "text": [
            "enter number : 5\n",
            "5\n",
            "4\n",
            "3\n",
            "2\n",
            "1\n"
          ],
          "name": "stdout"
        }
      ]
    }
  ]
}