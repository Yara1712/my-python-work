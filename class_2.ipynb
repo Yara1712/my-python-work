{
  "nbformat": 4,
  "nbformat_minor": 0,
  "metadata": {
    "colab": {
      "name": "class 2",
      "provenance": []
    },
    "kernelspec": {
      "name": "python3",
      "display_name": "Python 3"
    }
  },
  "cells": [
    {
      "cell_type": "code",
      "metadata": {
        "id": "lwaoLjHB9LjQ",
        "colab_type": "code",
        "colab": {
          "base_uri": "https://localhost:8080/",
          "height": 34
        },
        "outputId": "04139d68-3c8d-4450-9f68-79d8a299f25f"
      },
      "source": [
        "print (\"hi\",123)"
      ],
      "execution_count": null,
      "outputs": [
        {
          "output_type": "stream",
          "text": [
            "hi 123\n"
          ],
          "name": "stdout"
        }
      ]
    },
    {
      "cell_type": "code",
      "metadata": {
        "id": "B5eFtpOA92Y7",
        "colab_type": "code",
        "colab": {
          "base_uri": "https://localhost:8080/",
          "height": 51
        },
        "outputId": "1c55bb6d-4155-42c7-de90-964a3e00bb02"
      },
      "source": [
        "print (\"hi\",123,sep=\"\\n\")"
      ],
      "execution_count": null,
      "outputs": [
        {
          "output_type": "stream",
          "text": [
            "hi\n",
            "123\n"
          ],
          "name": "stdout"
        }
      ]
    },
    {
      "cell_type": "code",
      "metadata": {
        "id": "URbcuAXJ_3YU",
        "colab_type": "code",
        "colab": {
          "base_uri": "https://localhost:8080/",
          "height": 34
        },
        "outputId": "9e07fab2-fd12-4ae6-b339-79f2fe7b2305"
      },
      "source": [
        "print (\"hi\",end=\" \")\n",
        "print (3)"
      ],
      "execution_count": null,
      "outputs": [
        {
          "output_type": "stream",
          "text": [
            "hi 3\n"
          ],
          "name": "stdout"
        }
      ]
    },
    {
      "cell_type": "code",
      "metadata": {
        "id": "lUbIGAv9C1iF",
        "colab_type": "code",
        "colab": {
          "base_uri": "https://localhost:8080/",
          "height": 85
        },
        "outputId": "19cf363b-1db2-4460-f31b-0db166745d1f"
      },
      "source": [
        "print (7+3)\n",
        "print (7-3)\n",
        "print (7*3)\n",
        "print (7/3)"
      ],
      "execution_count": null,
      "outputs": [
        {
          "output_type": "stream",
          "text": [
            "10\n",
            "4\n",
            "21\n",
            "2.3333333333333335\n"
          ],
          "name": "stdout"
        }
      ]
    },
    {
      "cell_type": "code",
      "metadata": {
        "id": "NZtomXRQFNUj",
        "colab_type": "code",
        "colab": {
          "base_uri": "https://localhost:8080/",
          "height": 51
        },
        "outputId": "07222f79-a79d-4ab8-9b2f-ee6b6e4a528a"
      },
      "source": [
        "print (7//3)\n",
        "print (7%3)"
      ],
      "execution_count": null,
      "outputs": [
        {
          "output_type": "stream",
          "text": [
            "2\n",
            "1\n"
          ],
          "name": "stdout"
        }
      ]
    },
    {
      "cell_type": "code",
      "metadata": {
        "id": "i_Q8bIaZFyXz",
        "colab_type": "code",
        "colab": {
          "base_uri": "https://localhost:8080/",
          "height": 51
        },
        "outputId": "1d24f64c-475a-419f-bdda-59a51f3a784b"
      },
      "source": [
        "print (8//3)\n",
        "print (8%3)"
      ],
      "execution_count": null,
      "outputs": [
        {
          "output_type": "stream",
          "text": [
            "2\n",
            "2\n"
          ],
          "name": "stdout"
        }
      ]
    },
    {
      "cell_type": "code",
      "metadata": {
        "id": "X4NbVZy1GR8a",
        "colab_type": "code",
        "colab": {
          "base_uri": "https://localhost:8080/",
          "height": 136
        },
        "outputId": "8587a404-1a87-4a0f-ab1b-dc8977176054"
      },
      "source": [
        "var_1 = 21\n",
        "var_2 = 3.5\n",
        "print (type(var_1+var_2)) \n",
        "print (type(var_1-var_2))\n",
        "print (type(var_1*var_2)) \n",
        "print (type(var_1/var_2))\n",
        "print (type (var_1//var_2)) \n",
        "print (type(var_1%var_2)) \n",
        "print (type(var_1**var_2)) "
      ],
      "execution_count": null,
      "outputs": [
        {
          "output_type": "stream",
          "text": [
            "<class 'float'>\n",
            "<class 'float'>\n",
            "<class 'float'>\n",
            "<class 'float'>\n",
            "<class 'float'>\n",
            "<class 'float'>\n",
            "<class 'float'>\n"
          ],
          "name": "stdout"
        }
      ]
    },
    {
      "cell_type": "code",
      "metadata": {
        "id": "0M9YDwQqKod4",
        "colab_type": "code",
        "colab": {
          "base_uri": "https://localhost:8080/",
          "height": 119
        },
        "outputId": "e5b8c6d8-c5d6-4eb7-d61d-82883e1cfcd3"
      },
      "source": [
        "b = 4\n",
        "a = 6\n",
        "print (a<b)\n",
        "print (a>b)\n",
        "print (a>=b)\n",
        "print (b>=a)\n",
        "print ( a==b)\n",
        "print (a!=b)\n",
        "\n",
        "\n"
      ],
      "execution_count": null,
      "outputs": [
        {
          "output_type": "stream",
          "text": [
            "False\n",
            "True\n",
            "True\n",
            "False\n",
            "False\n",
            "True\n"
          ],
          "name": "stdout"
        }
      ]
    },
    {
      "cell_type": "code",
      "metadata": {
        "id": "zeccWEgRE2Oz",
        "colab_type": "code",
        "colab": {
          "base_uri": "https://localhost:8080/",
          "height": 34
        },
        "outputId": "ff80c84d-0d13-4490-8d20-e191a8b709cb"
      },
      "source": [
        "3**5"
      ],
      "execution_count": null,
      "outputs": [
        {
          "output_type": "execute_result",
          "data": {
            "text/plain": [
              "243"
            ]
          },
          "metadata": {
            "tags": []
          },
          "execution_count": 18
        }
      ]
    }
  ]
}