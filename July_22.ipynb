{
  "nbformat": 4,
  "nbformat_minor": 0,
  "metadata": {
    "colab": {
      "name": "July 22",
      "provenance": []
    },
    "kernelspec": {
      "name": "python3",
      "display_name": "Python 3"
    }
  },
  "cells": [
    {
      "cell_type": "code",
      "metadata": {
        "id": "8NmnGrmMe1VY",
        "colab_type": "code",
        "colab": {
          "base_uri": "https://localhost:8080/",
          "height": 238
        },
        "outputId": "08f6940b-15d4-4118-a2bb-862430be298d"
      },
      "source": [
        "print (\" the hangman game !\")\n",
        "word=\"breads\"\n",
        "a=input(\"first letter : \")\n",
        "if a == \"b\":\n",
        "  print (\"b-----\")\n",
        "else :\n",
        "  print (\"five chances left !\")\n",
        "\n",
        "b= input(\"second letter : \") \n",
        "if b == \"r\":\n",
        "  print (\"br----\")\n",
        "else :\n",
        "  print (\"four chances left !\")\n",
        "\n",
        "c= input(\"third letter : \") \n",
        "if c == \"e\":\n",
        "  print (\"bre---\")\n",
        "else :\n",
        "  print (\"three chances left !\")\n",
        "\n",
        "d=input(\"fourth  letter : \") \n",
        "if d == \"a\":\n",
        "  print (\"brea--\")\n",
        "else :\n",
        "  print (\"two chances left !\")\n",
        "\n",
        "e=input(\" fifth  letter : \") \n",
        "if e == \"d\":\n",
        "  print (\"bread-\")\n",
        "else :\n",
        "  print (\"last chance !\")\n",
        "\n",
        "f=input(\"last letter  letter : \") \n",
        "if f == \"s\":\n",
        "  print (\"breads ! you guesses right !\")\n",
        "else :\n",
        "  print (\"uh oh .. GAME OVER :(\")"
      ],
      "execution_count": null,
      "outputs": [
        {
          "output_type": "stream",
          "text": [
            " the hangman game !\n",
            "first letter : c\n",
            "five chances left !\n",
            "second letter : a\n",
            "four chances left !\n",
            "third letter : e\n",
            "three chances left !\n",
            "fourth  letter : i\n",
            "two chances left !\n",
            " fifth  letter : b\n",
            "last chance !\n",
            "last letter  letter : o\n",
            "uh oh .. GAME OVER :(\n"
          ],
          "name": "stdout"
        }
      ]
    },
    {
      "cell_type": "code",
      "metadata": {
        "id": "kFWGs-a5mGvM",
        "colab_type": "code",
        "colab": {}
      },
      "source": [
        ""
      ],
      "execution_count": null,
      "outputs": []
    },
    {
      "cell_type": "code",
      "metadata": {
        "id": "Oa_Ynp4yZu3l",
        "colab_type": "code",
        "colab": {}
      },
      "source": [
        "\n"
      ],
      "execution_count": null,
      "outputs": []
    }
  ]
}