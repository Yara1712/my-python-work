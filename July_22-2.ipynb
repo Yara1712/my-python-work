{
  "nbformat": 4,
  "nbformat_minor": 0,
  "metadata": {
    "colab": {
      "name": "July 22",
      "provenance": []
    },
    "kernelspec": {
      "name": "python3",
      "display_name": "Python 3"
    }
  },
  "cells": [
    {
      "cell_type": "code",
      "metadata": {
        "id": "Nam-uFuRoME1",
        "colab_type": "code",
        "colab": {
          "base_uri": "https://localhost:8080/",
          "height": 34
        },
        "outputId": "597d7059-852c-45e6-9f65-7b992e8f32b9"
      },
      "source": [
        "a=[1,2,3,4]\n",
        "b=0\n",
        "for x in a :\n",
        "  b=b+x\n",
        "print(b)"
      ],
      "execution_count": null,
      "outputs": [
        {
          "output_type": "stream",
          "text": [
            "10\n"
          ],
          "name": "stdout"
        }
      ]
    },
    {
      "cell_type": "code",
      "metadata": {
        "id": "s5VaewWiuk5I",
        "colab_type": "code",
        "colab": {}
      },
      "source": [
        ""
      ],
      "execution_count": null,
      "outputs": []
    },
    {
      "cell_type": "code",
      "metadata": {
        "id": "IIlMl8wMWomR",
        "colab_type": "code",
        "colab": {
          "base_uri": "https://localhost:8080/",
          "height": 34
        },
        "outputId": "a0b0e7fb-0329-42af-8173-62122bdf0b5a"
      },
      "source": [
        "a=[1,2,3,4]\n",
        "b=1\n",
        "for x in a :\n",
        "  b=b*x\n",
        "print(b)"
      ],
      "execution_count": null,
      "outputs": [
        {
          "output_type": "stream",
          "text": [
            "24\n"
          ],
          "name": "stdout"
        }
      ]
    },
    {
      "cell_type": "code",
      "metadata": {
        "id": "a1sMd9n3Xkha",
        "colab_type": "code",
        "colab": {
          "base_uri": "https://localhost:8080/",
          "height": 34
        },
        "outputId": "9bdd0d46-837d-4e7b-fd6a-02b923abdc6b"
      },
      "source": [
        "a=[]\n",
        "if (a==[]):\n",
        "  print(\"empty\")\n",
        "else :\n",
        "  print(\"thank you\")\n"
      ],
      "execution_count": null,
      "outputs": [
        {
          "output_type": "stream",
          "text": [
            "thank you\n"
          ],
          "name": "stdout"
        }
      ]
    },
    {
      "cell_type": "code",
      "metadata": {
        "id": "jafdIzevZZE1",
        "colab_type": "code",
        "colab": {
          "base_uri": "https://localhost:8080/",
          "height": 68
        },
        "outputId": "09345164-d44f-4417-c74e-5ac1d705c87f"
      },
      "source": [
        "a= []\n",
        "b= (input(\"enter list : \"))\n",
        "print(a.append(b))\n",
        "print (a)"
      ],
      "execution_count": null,
      "outputs": [
        {
          "output_type": "stream",
          "text": [
            "enter list : 1,4,3,5\n",
            "None\n",
            "['1,4,3,5']\n"
          ],
          "name": "stdout"
        }
      ]
    },
    {
      "cell_type": "code",
      "metadata": {
        "id": "hHytDrN8cn5x",
        "colab_type": "code",
        "colab": {
          "base_uri": "https://localhost:8080/",
          "height": 102
        },
        "outputId": "441af67f-1618-4637-dff6-8404d2e2942c"
      },
      "source": [
        "a=int(input(\"enter number : \"))\n",
        "x,y=0,1\n",
        "z=0\n",
        "if a==1:\n",
        "  print(a)\n",
        "  print(x)\n",
        "else:\n",
        "  while z<a:\n",
        "    print (x)\n",
        "    c=x+y\n",
        "    x=y\n",
        "    y=c\n",
        "    z+=1\n"
      ],
      "execution_count": null,
      "outputs": [
        {
          "output_type": "stream",
          "text": [
            "enter number : 4\n",
            "0\n",
            "1\n",
            "1\n",
            "2\n"
          ],
          "name": "stdout"
        }
      ]
    }
  ]
}