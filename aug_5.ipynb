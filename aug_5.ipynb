{
  "nbformat": 4,
  "nbformat_minor": 0,
  "metadata": {
    "colab": {
      "name": "aug 5",
      "provenance": []
    },
    "kernelspec": {
      "name": "python3",
      "display_name": "Python 3"
    }
  },
  "cells": [
    {
      "cell_type": "code",
      "metadata": {
        "id": "v9IbJkz7ZXgW",
        "colab_type": "code",
        "colab": {
          "base_uri": "https://localhost:8080/",
          "height": 34
        },
        "outputId": "1e00523c-bbed-4598-eb5e-4ff5ae21279b"
      },
      "source": [
        "def test(a,b,c):\n",
        "  if (a>b and c):\n",
        "    print (a) \n",
        "  if (b>c and a):\n",
        "    print (b)\n",
        "  if (c>a and b):\n",
        "    print (c)\n",
        "\n",
        "test (1,6,8)\n",
        "\n",
        "  \n",
        "\n"
      ],
      "execution_count": null,
      "outputs": [
        {
          "output_type": "stream",
          "text": [
            "8\n"
          ],
          "name": "stdout"
        }
      ]
    },
    {
      "cell_type": "markdown",
      "metadata": {
        "id": "MvO1qBYQnyG5",
        "colab_type": "text"
      },
      "source": [
        "question 65"
      ]
    },
    {
      "cell_type": "code",
      "metadata": {
        "id": "1AXkXp7rnvHX",
        "colab_type": "code",
        "colab": {
          "base_uri": "https://localhost:8080/",
          "height": 34
        },
        "outputId": "2abbfcfb-b632-4b05-d6a1-69775c7610cf"
      },
      "source": [
        "def yara(a):\n",
        "  if (a%2== 0):\n",
        "    print (\"number is not prime\")\n",
        "  else:\n",
        "    print (\"prime number detected\")\n",
        "yara (3)\n"
      ],
      "execution_count": null,
      "outputs": [
        {
          "output_type": "stream",
          "text": [
            "prime number detected\n"
          ],
          "name": "stdout"
        }
      ]
    },
    {
      "cell_type": "markdown",
      "metadata": {
        "id": "-k1zD27ToEm5",
        "colab_type": "text"
      },
      "source": [
        "question 66"
      ]
    }
  ]
}