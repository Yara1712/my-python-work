{
  "nbformat": 4,
  "nbformat_minor": 0,
  "metadata": {
    "colab": {
      "name": "Untitled2.ipynb",
      "provenance": []
    },
    "kernelspec": {
      "name": "python3",
      "display_name": "Python 3"
    }
  },
  "cells": [
    {
      "cell_type": "code",
      "metadata": {
        "id": "O-1SZwYsYcQv",
        "colab_type": "code",
        "colab": {
          "base_uri": "https://localhost:8080/",
          "height": 51
        },
        "outputId": "b0ed8186-cda7-47a4-b2bb-ebe4146d8f23"
      },
      "source": [
        "a= int(input(\"enter a number \"))\n",
        "if (a%2==0):\n",
        " print (\"it is even\")\n",
        "else:\n",
        " print (\"it is odd\")"
      ],
      "execution_count": null,
      "outputs": [
        {
          "output_type": "stream",
          "text": [
            "enter a number 6\n",
            "it is even\n"
          ],
          "name": "stdout"
        }
      ]
    },
    {
      "cell_type": "code",
      "metadata": {
        "id": "9Wz_-GXMZhmr",
        "colab_type": "code",
        "colab": {
          "base_uri": "https://localhost:8080/",
          "height": 85
        },
        "outputId": "e682df6d-54c9-4071-e038-c861bc9baf6b"
      },
      "source": [
        "a= int(input(\"enter a number \"))\n",
        "b= int(input(\"enter a number \"))\n",
        "c= int(input(\"enter a number \"))\n",
        "if (a==b==c):\n",
        "  print ((a+b+c)*3)\n",
        "else:\n",
        "  print (\"try again\")\n",
        "\n"
      ],
      "execution_count": null,
      "outputs": [
        {
          "output_type": "stream",
          "text": [
            "enter a number 2\n",
            "enter a number 2\n",
            "enter a number 2\n",
            "18\n"
          ],
          "name": "stdout"
        }
      ]
    },
    {
      "cell_type": "code",
      "metadata": {
        "id": "8TgoeojzgRCO",
        "colab_type": "code",
        "colab": {
          "base_uri": "https://localhost:8080/",
          "height": 102
        },
        "outputId": "303f5bcd-7604-4eb6-f6ef-2128781f86a2"
      },
      "source": [
        "a=5\n",
        "while (a<10):\n",
        " a= (a+1)\n",
        " print (\"hi\")\n"
      ],
      "execution_count": null,
      "outputs": [
        {
          "output_type": "stream",
          "text": [
            "hi\n",
            "hi\n",
            "hi\n",
            "hi\n",
            "hi\n"
          ],
          "name": "stdout"
        }
      ]
    },
    {
      "cell_type": "code",
      "metadata": {
        "id": "nMmp-K8EYXwh",
        "colab_type": "code",
        "colab": {
          "base_uri": "https://localhost:8080/",
          "height": 51
        },
        "outputId": "683c8986-4c71-4d43-f8d5-cf72c5b78942"
      },
      "source": [
        "a= int(input(\"input tempurature\"))\n",
        "b = (input(\"what unit\"))\n",
        "if(b==\"celsius\"): \n",
        "  print (a(*32))\n",
        "elif (b==\"faherenheit\"):\n",
        "  print (a/32)\n",
        "  \n"
      ],
      "execution_count": null,
      "outputs": [
        {
          "output_type": "stream",
          "text": [
            "input tempurature 60\n",
            "what unitfahrenheit\n"
          ],
          "name": "stdout"
        }
      ]
    }
  ]
}