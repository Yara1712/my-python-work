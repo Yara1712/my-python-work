{
  "nbformat": 4,
  "nbformat_minor": 0,
  "metadata": {
    "colab": {
      "name": "Untitled3.ipynb",
      "provenance": []
    },
    "kernelspec": {
      "name": "python3",
      "display_name": "Python 3"
    }
  },
  "cells": [
    {
      "cell_type": "code",
      "metadata": {
        "id": "daZYYBCw-GkZ",
        "colab_type": "code",
        "colab": {}
      },
      "source": [
        "a= int(input(\"enter number\"))\n",
        "(a - 17)\n",
        "if ((a-17)>17):\n",
        " print (a-17(*2))"
      ],
      "execution_count": null,
      "outputs": []
    }
  ]
}