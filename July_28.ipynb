{
  "nbformat": 4,
  "nbformat_minor": 0,
  "metadata": {
    "colab": {
      "name": "July 28",
      "provenance": []
    },
    "kernelspec": {
      "name": "python3",
      "display_name": "Python 3"
    }
  },
  "cells": [
    {
      "cell_type": "code",
      "metadata": {
        "id": "O_wgTwlFnRao",
        "colab_type": "code",
        "colab": {
          "base_uri": "https://localhost:8080/",
          "height": 119
        },
        "outputId": "6a451fd6-3d83-4c88-89b3-8f073c586f5a"
      },
      "source": [
        "#TUple\n",
        "#question 53\n",
        "x=[]\n",
        "for r in range (5):\n",
        "  a= int(input(\"enter number : \"))\n",
        "  x.append(a)\n",
        "x =tuple (x)\n",
        "print (x) \n",
        "\n",
        "\n"
      ],
      "execution_count": null,
      "outputs": [
        {
          "output_type": "stream",
          "text": [
            "enter number : 5\n",
            "enter number : 3\n",
            "enter number : 4\n",
            "enter number : 3\n",
            "enter number : 4\n",
            "(5, 3, 4, 3, 4)\n"
          ],
          "name": "stdout"
        }
      ]
    }
  ]
}