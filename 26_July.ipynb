{
  "nbformat": 4,
  "nbformat_minor": 0,
  "metadata": {
    "colab": {
      "name": "26 July",
      "provenance": []
    },
    "kernelspec": {
      "name": "python3",
      "display_name": "Python 3"
    }
  },
  "cells": [
    {
      "cell_type": "code",
      "metadata": {
        "id": "eV1LwqVb6-r2",
        "colab_type": "code",
        "colab": {}
      },
      "source": [
        "\n",
        "l=[]\n",
        "for n in range(5):\n",
        "  c=int(input(\"enter : \"))\n",
        "  l.append(c)\n",
        "v=[]\n",
        "for x in range(5):\n",
        "  a=int(input(\"enter\"))\n",
        "  v.append(a)\n",
        "if (l[0:-1]==v[0:-1]):\n",
        "  print (\" true :) \")\n",
        "else :\n",
        "  print (\"false :( \")"
      ],
      "execution_count": null,
      "outputs": []
    },
    {
      "cell_type": "code",
      "metadata": {
        "id": "9ku4xOtrFOei",
        "colab_type": "code",
        "colab": {
          "base_uri": "https://localhost:8080/",
          "height": 34
        },
        "outputId": "1178ba64-fdf6-4446-ef2f-29fb7213a86d"
      },
      "source": [
        "a=[]\n",
        "for x in range (1,31):\n",
        "  a.append(x**2)\n",
        "print(a[0:5] , a[-5:])"
      ],
      "execution_count": null,
      "outputs": [
        {
          "output_type": "stream",
          "text": [
            "[1, 4, 9, 16, 25] [676, 729, 784, 841, 900]\n"
          ],
          "name": "stdout"
        }
      ]
    }
  ]
}