{
  "nbformat": 4,
  "nbformat_minor": 0,
  "metadata": {
    "colab": {
      "name": "Untitled4.ipynb",
      "provenance": []
    },
    "kernelspec": {
      "name": "python3",
      "display_name": "Python 3"
    }
  },
  "cells": [
    {
      "cell_type": "code",
      "metadata": {
        "id": "jjSWuFe77Bj3",
        "colab_type": "code",
        "colab": {
          "base_uri": "https://localhost:8080/",
          "height": 187
        },
        "outputId": "5f69dfba-3cb2-4e3d-c2b3-bf6e3616265a"
      },
      "source": [
        "for x in range (10):\n",
        "  print (\"hey\")"
      ],
      "execution_count": null,
      "outputs": [
        {
          "output_type": "stream",
          "text": [
            "hey\n",
            "hey\n",
            "hey\n",
            "hey\n",
            "hey\n",
            "hey\n",
            "hey\n",
            "hey\n",
            "hey\n",
            "hey\n"
          ],
          "name": "stdout"
        }
      ]
    },
    {
      "cell_type": "code",
      "metadata": {
        "id": "fJ3nDnKr7Wt4",
        "colab_type": "code",
        "colab": {
          "base_uri": "https://localhost:8080/",
          "height": 153
        },
        "outputId": "f1b3720c-1a6c-413a-94d5-71e308270874"
      },
      "source": [
        "for abc in range (7,15,1):\n",
        "  print (abc)"
      ],
      "execution_count": null,
      "outputs": [
        {
          "output_type": "stream",
          "text": [
            "7\n",
            "8\n",
            "9\n",
            "10\n",
            "11\n",
            "12\n",
            "13\n",
            "14\n"
          ],
          "name": "stdout"
        }
      ]
    },
    {
      "cell_type": "code",
      "metadata": {
        "id": "QmyVopjn7l5B",
        "colab_type": "code",
        "colab": {
          "base_uri": "https://localhost:8080/",
          "height": 102
        },
        "outputId": "b646df13-c86b-4de2-a5cc-af72be28e3db"
      },
      "source": [
        "for x in range (10,5,-1):\n",
        "  print (x)"
      ],
      "execution_count": null,
      "outputs": [
        {
          "output_type": "stream",
          "text": [
            "10\n",
            "9\n",
            "8\n",
            "7\n",
            "6\n"
          ],
          "name": "stdout"
        }
      ]
    },
    {
      "cell_type": "code",
      "metadata": {
        "id": "v2OCGHBp86Qy",
        "colab_type": "code",
        "colab": {
          "base_uri": "https://localhost:8080/",
          "height": 1000
        },
        "outputId": "f03c08f1-3d89-40c2-c8a5-ec26b550d661"
      },
      "source": [
        "for y in range (1,50):\n",
        "  print(y)\n",
        "  if (y%3==0):\n",
        "    print (\"fizz\")\n",
        "  elif (y%5==0):\n",
        "    print (\"buzz\")\n",
        "  elif ( y%3==0 and y%5==0):\n",
        "    print(\"fizzbuzz\")\n",
        "\n",
        "\n",
        "\n",
        "\n"
      ],
      "execution_count": null,
      "outputs": [
        {
          "output_type": "stream",
          "text": [
            "1\n",
            "2\n",
            "3\n",
            "fizz\n",
            "4\n",
            "5\n",
            "buzz\n",
            "6\n",
            "fizz\n",
            "7\n",
            "8\n",
            "9\n",
            "fizz\n",
            "10\n",
            "buzz\n",
            "11\n",
            "12\n",
            "fizz\n",
            "13\n",
            "14\n",
            "15\n",
            "fizz\n",
            "16\n",
            "17\n",
            "18\n",
            "fizz\n",
            "19\n",
            "20\n",
            "buzz\n",
            "21\n",
            "fizz\n",
            "22\n",
            "23\n",
            "24\n",
            "fizz\n",
            "25\n",
            "buzz\n",
            "26\n",
            "27\n",
            "fizz\n",
            "28\n",
            "29\n",
            "30\n",
            "fizz\n",
            "31\n",
            "32\n",
            "33\n",
            "fizz\n",
            "34\n",
            "35\n",
            "buzz\n",
            "36\n",
            "fizz\n",
            "37\n",
            "38\n",
            "39\n",
            "fizz\n",
            "40\n",
            "buzz\n",
            "41\n",
            "42\n",
            "fizz\n",
            "43\n",
            "44\n",
            "45\n",
            "fizz\n",
            "46\n",
            "47\n",
            "48\n",
            "fizz\n",
            "49\n"
          ],
          "name": "stdout"
        }
      ]
    },
    {
      "cell_type": "code",
      "metadata": {
        "id": "DjeVY0g5CO_k",
        "colab_type": "code",
        "colab": {
          "base_uri": "https://localhost:8080/",
          "height": 68
        },
        "outputId": "86a06b79-c14d-437b-fa03-cad71871b344"
      },
      "source": [
        "a = input (\"enter jacks play : \")\n",
        "b = input (\"enter jills play : \")\n",
        "if ( a == (\"rock \") and b == (\"scissors\") or a== (\"paper\") and b==(\"rock\") or a==(\"scissors\") and b == (\"paper\")):\n",
        "  print (\"jack wins\")\n",
        "elif ( b == (\"rock \") and a == (\"scissors\") or b== (\"paper\") and a==(\"rock\") or b==(\"scissors\") and a== (\"paper\")):\n",
        "  print (\"jill wins\")\n",
        "elif ( a == (\"rock \") and b == (\"rock\") or a== (\"paper\") and b==(paper) or a==(\"scissors\") and b == (\"scissors\")):\n",
        "  print (\"tie\")"
      ],
      "execution_count": null,
      "outputs": [
        {
          "output_type": "stream",
          "text": [
            "enter jacks play : rock\n",
            "enter jills play : paper\n",
            "jill wins\n"
          ],
          "name": "stdout"
        }
      ]
    },
    {
      "cell_type": "code",
      "metadata": {
        "id": "KMjAhMWgF3US",
        "colab_type": "code",
        "colab": {
          "base_uri": "https://localhost:8080/",
          "height": 119
        },
        "outputId": "b932caa1-cab2-42c7-f9d2-874860124500"
      },
      "source": [
        "for x in range (10):\n",
        "  print (x)\n",
        "  if (x==5):\n",
        "    break"
      ],
      "execution_count": null,
      "outputs": [
        {
          "output_type": "stream",
          "text": [
            "0\n",
            "1\n",
            "2\n",
            "3\n",
            "4\n",
            "5\n"
          ],
          "name": "stdout"
        }
      ]
    },
    {
      "cell_type": "code",
      "metadata": {
        "id": "QOARWyufG29B",
        "colab_type": "code",
        "colab": {
          "base_uri": "https://localhost:8080/",
          "height": 340
        },
        "outputId": "0420038e-2a98-46fb-84f8-5f99a0bdbb95"
      },
      "source": [
        "for x in range (20):\n",
        "  if (x==10):\n",
        "   pass\n",
        "  else:  \n",
        "   print (x)"
      ],
      "execution_count": null,
      "outputs": [
        {
          "output_type": "stream",
          "text": [
            "0\n",
            "1\n",
            "2\n",
            "3\n",
            "4\n",
            "5\n",
            "6\n",
            "7\n",
            "8\n",
            "9\n",
            "11\n",
            "12\n",
            "13\n",
            "14\n",
            "15\n",
            "16\n",
            "17\n",
            "18\n",
            "19\n"
          ],
          "name": "stdout"
        }
      ]
    },
    {
      "cell_type": "code",
      "metadata": {
        "id": "K8_onaO7IXZY",
        "colab_type": "code",
        "colab": {
          "base_uri": "https://localhost:8080/",
          "height": 102
        },
        "outputId": "83f02782-7dde-4d51-a24c-ab55ad9e0246"
      },
      "source": [
        "for x in range (6):\n",
        "  if (x==3 or x==6):\n",
        "    pass\n",
        "  else:\n",
        "    print (x)"
      ],
      "execution_count": null,
      "outputs": [
        {
          "output_type": "stream",
          "text": [
            "0\n",
            "1\n",
            "2\n",
            "4\n",
            "5\n"
          ],
          "name": "stdout"
        }
      ]
    }
  ]
}