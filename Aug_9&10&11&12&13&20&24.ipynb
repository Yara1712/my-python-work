{
  "nbformat": 4,
  "nbformat_minor": 0,
  "metadata": {
    "colab": {
      "name": "Aug 9&10&11&12&13&20&24",
      "provenance": []
    },
    "kernelspec": {
      "name": "python3",
      "display_name": "Python 3"
    }
  },
  "cells": [
    {
      "cell_type": "code",
      "metadata": {
        "id": "JyiTOC1F-ukO",
        "colab_type": "code",
        "colab": {
          "base_uri": "https://localhost:8080/",
          "height": 68
        },
        "outputId": "20c63ee1-a3c2-4879-fc51-2cb8f7c7af7c"
      },
      "source": [
        "def funct ():\n",
        "  print (\"hi\")\n",
        "  global x\n",
        "  x=4\n",
        "print(funct())\n",
        "print (x)\n",
        "\n"
      ],
      "execution_count": null,
      "outputs": [
        {
          "output_type": "stream",
          "text": [
            "hi\n",
            "None\n",
            "4\n"
          ],
          "name": "stdout"
        }
      ]
    },
    {
      "cell_type": "code",
      "metadata": {
        "id": "U1zcwMFfLzJt",
        "colab_type": "code",
        "colab": {
          "base_uri": "https://localhost:8080/",
          "height": 34
        },
        "outputId": "37910a06-87ac-422c-9eb9-0b4db3986b31"
      },
      "source": [
        "# question 71\n",
        "x = lambda y : y+15\n",
        "print(x(12))"
      ],
      "execution_count": null,
      "outputs": [
        {
          "output_type": "stream",
          "text": [
            "27\n"
          ],
          "name": "stdout"
        }
      ]
    },
    {
      "cell_type": "code",
      "metadata": {
        "id": "NuvgOfXRRECg",
        "colab_type": "code",
        "colab": {
          "base_uri": "https://localhost:8080/",
          "height": 34
        },
        "outputId": "45d354d2-cbba-4583-e725-2ad93b8caee3"
      },
      "source": [
        "# question 72\n",
        "x= lambda a,b :a*b\n",
        "print (x(6,3))"
      ],
      "execution_count": null,
      "outputs": [
        {
          "output_type": "stream",
          "text": [
            "18\n"
          ],
          "name": "stdout"
        }
      ]
    },
    {
      "cell_type": "code",
      "metadata": {
        "id": "rhEnyoxkRfKY",
        "colab_type": "code",
        "colab": {
          "base_uri": "https://localhost:8080/",
          "height": 34
        },
        "outputId": "7b95b7c9-f5d2-4f61-dba1-52249e6f3614"
      },
      "source": [
        "# question 73 \n",
        "def a(b):\n",
        "  return lambda x : x*b\n",
        "\n",
        "y=a(9)\n",
        "print (y(11))"
      ],
      "execution_count": null,
      "outputs": [
        {
          "output_type": "stream",
          "text": [
            "99\n"
          ],
          "name": "stdout"
        }
      ]
    },
    {
      "cell_type": "code",
      "metadata": {
        "id": "QF1BE-ALdOzJ",
        "colab_type": "code",
        "colab": {
          "base_uri": "https://localhost:8080/",
          "height": 51
        },
        "outputId": "f8b5239c-5cc9-4e03-ff9b-bdd007cbf68b"
      },
      "source": [
        "# question 74\n",
        "x = lambda y : y+\"hello\"\n",
        "if ([0]==\"u\"):\n",
        "  print (\"given chacrecter is there \")\n",
        "else:\n",
        "  print(\"oops error\")\n",
        "print (x)"
      ],
      "execution_count": null,
      "outputs": [
        {
          "output_type": "stream",
          "text": [
            "oops error\n",
            "<function <lambda> at 0x7f8d421b5950>\n"
          ],
          "name": "stdout"
        }
      ]
    },
    {
      "cell_type": "code",
      "metadata": {
        "id": "JIMkx1VamePj",
        "colab_type": "code",
        "colab": {
          "base_uri": "https://localhost:8080/",
          "height": 34
        },
        "outputId": "2ba41651-f78f-4c50-ea75-e6edcdc82d50"
      },
      "source": [
        "# question 75\n",
        "x=[2,4,7,12,54,78]\n",
        "e= list(filter(lambda a :(a%2==0),x))\n",
        "print(e)"
      ],
      "execution_count": null,
      "outputs": [
        {
          "output_type": "stream",
          "text": [
            "[2, 4, 12, 54, 78]\n"
          ],
          "name": "stdout"
        }
      ]
    },
    {
      "cell_type": "code",
      "metadata": {
        "id": "zOepd4OKj6JC",
        "colab_type": "code",
        "colab": {
          "base_uri": "https://localhost:8080/",
          "height": 34
        },
        "outputId": "41e39b5a-3bd0-4967-cb40-75ba27fe1bbb"
      },
      "source": [
        "# question 76\n",
        "x=[2,4,7,12,54,78]\n",
        "e= list(filter(lambda a :(a%2!=0),x))\n",
        "print(e)"
      ],
      "execution_count": null,
      "outputs": [
        {
          "output_type": "stream",
          "text": [
            "[7]\n"
          ],
          "name": "stdout"
        }
      ]
    },
    {
      "cell_type": "code",
      "metadata": {
        "id": "6sIWXkYFlVII",
        "colab_type": "code",
        "colab": {}
      },
      "source": [
        "# question 77\n"
      ],
      "execution_count": null,
      "outputs": []
    },
    {
      "cell_type": "code",
      "metadata": {
        "id": "yR6oh9p2t4zp",
        "colab_type": "code",
        "colab": {
          "base_uri": "https://localhost:8080/",
          "height": 493
        },
        "outputId": "276b51fe-5624-4b4a-857a-f073f20b9c38"
      },
      "source": [
        "# question 86\n",
        "import numpy as np\n",
        "print(np.__version__)\n",
        "print(np.show_config())"
      ],
      "execution_count": 1,
      "outputs": [
        {
          "output_type": "stream",
          "text": [
            "1.18.5\n",
            "blas_mkl_info:\n",
            "  NOT AVAILABLE\n",
            "blis_info:\n",
            "  NOT AVAILABLE\n",
            "openblas_info:\n",
            "    libraries = ['openblas', 'openblas']\n",
            "    library_dirs = ['/usr/local/lib']\n",
            "    language = c\n",
            "    define_macros = [('HAVE_CBLAS', None)]\n",
            "blas_opt_info:\n",
            "    libraries = ['openblas', 'openblas']\n",
            "    library_dirs = ['/usr/local/lib']\n",
            "    language = c\n",
            "    define_macros = [('HAVE_CBLAS', None)]\n",
            "lapack_mkl_info:\n",
            "  NOT AVAILABLE\n",
            "openblas_lapack_info:\n",
            "    libraries = ['openblas', 'openblas']\n",
            "    library_dirs = ['/usr/local/lib']\n",
            "    language = c\n",
            "    define_macros = [('HAVE_CBLAS', None)]\n",
            "lapack_opt_info:\n",
            "    libraries = ['openblas', 'openblas']\n",
            "    library_dirs = ['/usr/local/lib']\n",
            "    language = c\n",
            "    define_macros = [('HAVE_CBLAS', None)]\n",
            "None\n"
          ],
          "name": "stdout"
        }
      ]
    },
    {
      "cell_type": "code",
      "metadata": {
        "id": "QuQiS52Gt48A",
        "colab_type": "code",
        "colab": {}
      },
      "source": [
        "#question 87\n",
        "x=np.array([1,2,3])\n",
        "y=np.array([0,1,2,3])"
      ],
      "execution_count": 3,
      "outputs": []
    },
    {
      "cell_type": "code",
      "metadata": {
        "id": "qrk5t-q1t4-x",
        "colab_type": "code",
        "colab": {
          "base_uri": "https://localhost:8080/",
          "height": 34
        },
        "outputId": "cd760ef2-fe55-4a83-d277-62558f3baf2e"
      },
      "source": [
        "#question 88\n",
        "x= np.array([1,0,0,0])\n",
        "print(np.any(x))"
      ],
      "execution_count": 4,
      "outputs": [
        {
          "output_type": "stream",
          "text": [
            "True\n"
          ],
          "name": "stdout"
        }
      ]
    },
    {
      "cell_type": "code",
      "metadata": {
        "id": "-mgtlhLTt5A9",
        "colab_type": "code",
        "colab": {
          "base_uri": "https://localhost:8080/"
        },
        "outputId": "fa1dfb8a-f2a1-446c-c829-7dd7f05b2649"
      },
      "source": [
        "#question 89\n",
        "a = np.array([1, 0, np.nan, np.inf])\n",
        "print(np.isinf(a))"
      ],
      "execution_count": 5,
      "outputs": [
        {
          "output_type": "stream",
          "text": [
            "[False False False  True]\n"
          ],
          "name": "stdout"
        }
      ]
    },
    {
      "cell_type": "code",
      "metadata": {
        "id": "iTAdTHuRt5Dn",
        "colab_type": "code",
        "colab": {}
      },
      "source": [
        "#question 90\n",
        " a = np.array([1, 0, np.nan, np.inf])\n"
      ],
      "execution_count": null,
      "outputs": []
    },
    {
      "cell_type": "code",
      "metadata": {
        "id": "ecOoKzAGt5F8",
        "colab_type": "code",
        "colab": {}
      },
      "source": [
        "#question 91"
      ],
      "execution_count": null,
      "outputs": []
    }
  ]
}