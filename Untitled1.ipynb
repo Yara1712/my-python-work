{
  "nbformat": 4,
  "nbformat_minor": 0,
  "metadata": {
    "colab": {
      "name": "Untitled1.ipynb",
      "provenance": []
    },
    "kernelspec": {
      "name": "python3",
      "display_name": "Python 3"
    }
  },
  "cells": [
    {
      "cell_type": "code",
      "metadata": {
        "id": "ZSbcbmREHE2b",
        "colab_type": "code",
        "colab": {
          "base_uri": "https://localhost:8080/",
          "height": 85
        },
        "outputId": "45b81dba-228a-417a-a679-a914ea99d7d6"
      },
      "source": [
        "name = input (\"enter name\")\n",
        "grade = input (\"enter grade\")\n",
        "print (type(name))\n",
        "print (type(grade))"
      ],
      "execution_count": null,
      "outputs": [
        {
          "output_type": "stream",
          "text": [
            "enter name yara\n",
            "enter grade 7\n",
            "<class 'str'>\n",
            "<class 'str'>\n"
          ],
          "name": "stdout"
        }
      ]
    },
    {
      "cell_type": "code",
      "metadata": {
        "id": "t1HFEAJCU90x",
        "colab_type": "code",
        "colab": {
          "base_uri": "https://localhost:8080/",
          "height": 136
        },
        "outputId": "54b32588-cb18-4649-b19e-024553daa3de"
      },
      "source": [
        "a = input (\"enter number\")\n",
        "b = input (\"enter number\")\n",
        "c = input (\"enter number\")\n",
        "d = input (\"enter number\")\n",
        "print (a<b and d>c)\n",
        "print (not(d<a))\n",
        "print (d>a or a<c)\n"
      ],
      "execution_count": null,
      "outputs": [
        {
          "output_type": "stream",
          "text": [
            "enter number5\n",
            "enter number2\n",
            "enter number1\n",
            "enter number3\n",
            "False\n",
            "False\n",
            "False\n"
          ],
          "name": "stdout"
        }
      ]
    },
    {
      "cell_type": "code",
      "metadata": {
        "id": "Mmvfwtp4LCyI",
        "colab_type": "code",
        "colab": {
          "base_uri": "https://localhost:8080/",
          "height": 68
        },
        "outputId": "a9d4e880-3746-4134-b900-89fee6b6b795"
      },
      "source": [
        "a = int(input(\"enter number\"))\n",
        "b = int(input(\"enter number\"))\n",
        "print (type(a+b))"
      ],
      "execution_count": null,
      "outputs": [
        {
          "output_type": "stream",
          "text": [
            "enter number4\n",
            "enter number6\n",
            "<class 'int'>\n"
          ],
          "name": "stdout"
        }
      ]
    },
    {
      "cell_type": "code",
      "metadata": {
        "id": "oNBUnN2BQ23S",
        "colab_type": "code",
        "colab": {
          "base_uri": "https://localhost:8080/",
          "height": 51
        },
        "outputId": "de37ea37-7f0b-426f-9ecf-2ac0105f8462"
      },
      "source": [
        "print ( 3>4 and 9<10)\n",
        "print (3>2 and 5<7)"
      ],
      "execution_count": null,
      "outputs": [
        {
          "output_type": "stream",
          "text": [
            "False\n",
            "True\n"
          ],
          "name": "stdout"
        }
      ]
    },
    {
      "cell_type": "code",
      "metadata": {
        "id": "8x1diu2USbp2",
        "colab_type": "code",
        "colab": {
          "base_uri": "https://localhost:8080/",
          "height": 51
        },
        "outputId": "9e362cd1-9b18-4ea7-a1b8-91ec557cc7ac"
      },
      "source": [
        "print (5>3 or 6<4)\n",
        "print (8<2 or 4>21)"
      ],
      "execution_count": null,
      "outputs": [
        {
          "output_type": "stream",
          "text": [
            "True\n",
            "False\n"
          ],
          "name": "stdout"
        }
      ]
    },
    {
      "cell_type": "code",
      "metadata": {
        "id": "vy4BLfhGUKFF",
        "colab_type": "code",
        "colab": {
          "base_uri": "https://localhost:8080/",
          "height": 51
        },
        "outputId": "e7268b26-b74d-4fad-cdea-57498712ba4e"
      },
      "source": [
        "print (not (3>7))\n",
        "print (not (6<8))"
      ],
      "execution_count": null,
      "outputs": [
        {
          "output_type": "stream",
          "text": [
            "True\n",
            "False\n"
          ],
          "name": "stdout"
        }
      ]
    },
    {
      "cell_type": "code",
      "metadata": {
        "id": "1qfgI9WlUfZI",
        "colab_type": "code",
        "colab": {
          "base_uri": "https://localhost:8080/",
          "height": 34
        },
        "outputId": "cc81ad78-c6d0-49b7-d418-b75bbaa655b3"
      },
      "source": [
        "print (not(3<7) and (2<5) or (3>7))"
      ],
      "execution_count": null,
      "outputs": [
        {
          "output_type": "stream",
          "text": [
            "False\n"
          ],
          "name": "stdout"
        }
      ]
    },
    {
      "cell_type": "code",
      "metadata": {
        "id": "X6eh84R1JPUp",
        "colab_type": "code",
        "colab": {}
      },
      "source": [
        "a = input (\"enter first number\")\n",
        "b = input (\"enter second number\")\n",
        "print (a+b)"
      ],
      "execution_count": null,
      "outputs": []
    },
    {
      "cell_type": "code",
      "metadata": {
        "id": "Pzb9ou2rK4tu",
        "colab_type": "code",
        "colab": {
          "base_uri": "https://localhost:8080/",
          "height": 34
        },
        "outputId": "ca31c45e-61b7-4781-d1e5-b4e335577e61"
      },
      "source": [
        "int (7.3)"
      ],
      "execution_count": null,
      "outputs": [
        {
          "output_type": "execute_result",
          "data": {
            "text/plain": [
              "7"
            ]
          },
          "metadata": {
            "tags": []
          },
          "execution_count": 7
        }
      ]
    }
  ]
}