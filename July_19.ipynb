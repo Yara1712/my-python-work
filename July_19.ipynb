{
  "nbformat": 4,
  "nbformat_minor": 0,
  "metadata": {
    "colab": {
      "name": "July 19",
      "provenance": []
    },
    "kernelspec": {
      "name": "python3",
      "display_name": "Python 3"
    }
  },
  "cells": [
    {
      "cell_type": "code",
      "metadata": {
        "id": "JT-LyJt9zxqb",
        "colab_type": "code",
        "colab": {
          "base_uri": "https://localhost:8080/",
          "height": 51
        },
        "outputId": "2e612787-28fd-4885-8d4c-4de76934af01"
      },
      "source": [
        "a= (input(\"enter a word : \"))\n",
        "c=0\n",
        "for x in a [:4]:\n",
        "  if (x.isupper()):\n",
        "    c=c+1\n",
        "if (c>=2):\n",
        "  print(a.upper())"
      ],
      "execution_count": null,
      "outputs": [
        {
          "output_type": "stream",
          "text": [
            "enter a word : PoTato\n",
            "POTATO\n"
          ],
          "name": "stdout"
        }
      ]
    },
    {
      "cell_type": "code",
      "metadata": {
        "id": "-utiop0lLkE5",
        "colab_type": "code",
        "colab": {}
      },
      "source": [
        ""
      ],
      "execution_count": null,
      "outputs": []
    }
  ]
}