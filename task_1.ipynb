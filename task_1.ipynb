{
  "nbformat": 4,
  "nbformat_minor": 0,
  "metadata": {
    "colab": {
      "name": "task 1",
      "provenance": []
    },
    "kernelspec": {
      "name": "python3",
      "display_name": "Python 3"
    }
  },
  "cells": [
    {
      "cell_type": "code",
      "metadata": {
        "id": "a3l_4mYUBziH",
        "colab_type": "code",
        "colab": {
          "base_uri": "https://localhost:8080/",
          "height": 34
        },
        "outputId": "57b75bbb-52b8-470a-9189-80da5b2335bd"
      },
      "source": [
        "grade = 7\n",
        "name = (\"yara\")\n",
        "age = 13\n",
        "print (\"my name is\",name,\", i am in grade\",grade,\". i am almost\",age,)"
      ],
      "execution_count": null,
      "outputs": [
        {
          "output_type": "stream",
          "text": [
            "my name is yara , i am in grade 7 . i am almost 13\n"
          ],
          "name": "stdout"
        }
      ]
    }
  ]
}