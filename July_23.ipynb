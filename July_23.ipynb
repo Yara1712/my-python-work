{
  "nbformat": 4,
  "nbformat_minor": 0,
  "metadata": {
    "colab": {
      "name": "July 23",
      "provenance": []
    },
    "kernelspec": {
      "name": "python3",
      "display_name": "Python 3"
    }
  },
  "cells": [
    {
      "cell_type": "code",
      "metadata": {
        "id": "HMChtKS5dPlq",
        "colab_type": "code",
        "colab": {
          "base_uri": "https://localhost:8080/",
          "height": 238
        },
        "outputId": "1035e5b8-e168-4ce1-eafc-5d12670031db"
      },
      "source": [
        "a=[]\n",
        "c=[]\n",
        "for x in range (5):\n",
        "  b=(input(\"enter list\"))\n",
        "  print(a.append(b))\n",
        "print (a)\n",
        "for z in b :\n",
        "  if z not in c:\n",
        "    c.append(z)\n",
        "    print (z)\n",
        "    print (c)"
      ],
      "execution_count": null,
      "outputs": [
        {
          "output_type": "stream",
          "text": [
            "enter list5\n",
            "None\n",
            "enter list5\n",
            "None\n",
            "enter list4\n",
            "None\n",
            "enter list4\n",
            "None\n",
            "enter list2\n",
            "None\n",
            "['5', '5', '4', '4', '2']\n",
            "2\n",
            "['2']\n"
          ],
          "name": "stdout"
        }
      ]
    }
  ]
}