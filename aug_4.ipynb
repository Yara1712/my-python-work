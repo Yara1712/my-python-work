{
  "nbformat": 4,
  "nbformat_minor": 0,
  "metadata": {
    "colab": {
      "name": "aug 4",
      "provenance": []
    },
    "kernelspec": {
      "name": "python3",
      "display_name": "Python 3"
    }
  },
  "cells": [
    {
      "cell_type": "code",
      "metadata": {
        "id": "444Xq7LnPJQV",
        "colab_type": "code",
        "colab": {
          "base_uri": "https://localhost:8080/",
          "height": 34
        },
        "outputId": "8467ce0b-41ac-4ba0-fb9b-7827cd1d794e"
      },
      "source": [
        "#TUple\n",
        "a = (1,2,3,4,5)\n",
        "b=67\n",
        "c=dict.fromkeys(a,b)\n",
        "print (c)"
      ],
      "execution_count": null,
      "outputs": [
        {
          "output_type": "stream",
          "text": [
            "{1: 67, 2: 67, 3: 67, 4: 67, 5: 67}\n"
          ],
          "name": "stdout"
        }
      ]
    },
    {
      "cell_type": "code",
      "metadata": {
        "id": "UZi3TjbQW1ES",
        "colab_type": "code",
        "colab": {
          "base_uri": "https://localhost:8080/",
          "height": 51
        },
        "outputId": "662b8654-cc59-46af-b23f-0c249d9aebe6"
      },
      "source": [
        "#question 55\n",
        "a = {'python':50}\n",
        "print(type(a))\n",
        "print (len(a))"
      ],
      "execution_count": null,
      "outputs": [
        {
          "output_type": "stream",
          "text": [
            "<class 'dict'>\n",
            "1\n"
          ],
          "name": "stdout"
        }
      ]
    },
    {
      "cell_type": "code",
      "metadata": {
        "id": "zH74dbAuZddR",
        "colab_type": "code",
        "colab": {
          "base_uri": "https://localhost:8080/",
          "height": 34
        },
        "outputId": "42a65992-3ced-440b-eec7-8ee83feb32ae"
      },
      "source": [
        "#question 56\n",
        "a={'yara':100}\n",
        "a.update ({'iskandarani':200})\n",
        "print (a)"
      ],
      "execution_count": null,
      "outputs": [
        {
          "output_type": "stream",
          "text": [
            "{'yara': 100, 'iskandarani': 200}\n"
          ],
          "name": "stdout"
        }
      ]
    },
    {
      "cell_type": "code",
      "metadata": {
        "id": "aMu1Uxo6a1cG",
        "colab_type": "code",
        "colab": {
          "base_uri": "https://localhost:8080/",
          "height": 34
        },
        "outputId": "e8a81ef3-2c6e-4b5f-eeb1-e8925771bc96"
      },
      "source": [
        "#question 57\n",
        "a={'yara':100,'iskandarani':200,'fun':23}\n",
        "'tara'in a"
      ],
      "execution_count": null,
      "outputs": [
        {
          "output_type": "execute_result",
          "data": {
            "text/plain": [
              "False"
            ]
          },
          "metadata": {
            "tags": []
          },
          "execution_count": 12
        }
      ]
    },
    {
      "cell_type": "code",
      "metadata": {
        "id": "s9mJyiI8cfyo",
        "colab_type": "code",
        "colab": {
          "base_uri": "https://localhost:8080/",
          "height": 221
        },
        "outputId": "2b002801-6c2e-40a9-9138-64b4d3e44cf1"
      },
      "source": [
        "#question 58\n",
        "a={'yara':100,'iskandarani':200,'fun':23,'python':50}\n",
        "for x in a.keys():\n",
        "  print(x)\n",
        "for z in a.values():\n",
        "  print(z)\n",
        "for w in a.items():\n",
        "  print(w)\n"
      ],
      "execution_count": null,
      "outputs": [
        {
          "output_type": "stream",
          "text": [
            "yara\n",
            "iskandarani\n",
            "fun\n",
            "python\n",
            "100\n",
            "200\n",
            "23\n",
            "50\n",
            "('yara', 100)\n",
            "('iskandarani', 200)\n",
            "('fun', 23)\n",
            "('python', 50)\n"
          ],
          "name": "stdout"
        }
      ]
    },
    {
      "cell_type": "code",
      "metadata": {
        "id": "lLGzDe0xdRgb",
        "colab_type": "code",
        "colab": {
          "base_uri": "https://localhost:8080/",
          "height": 130
        },
        "outputId": "81e85cee-3a14-4c98-d23f-baf5ae12fc91"
      },
      "source": [
        "#question 59\n",
        "a = int(input(\"enter an ending number : \"))\\\n",
        "z={:}\n",
        "for x in range (a)\n",
        "\n"
      ],
      "execution_count": null,
      "outputs": [
        {
          "output_type": "error",
          "ename": "SyntaxError",
          "evalue": "ignored",
          "traceback": [
            "\u001b[0;36m  File \u001b[0;32m\"<ipython-input-16-6842fa96ebd1>\"\u001b[0;36m, line \u001b[0;32m3\u001b[0m\n\u001b[0;31m    for x in range(a)\u001b[0m\n\u001b[0m                     ^\u001b[0m\n\u001b[0;31mSyntaxError\u001b[0m\u001b[0;31m:\u001b[0m invalid syntax\n"
          ]
        }
      ]
    },
    {
      "cell_type": "code",
      "metadata": {
        "id": "bLRTaqZfiSY7",
        "colab_type": "code",
        "colab": {
          "base_uri": "https://localhost:8080/",
          "height": 34
        },
        "outputId": "1a7e23ae-dee8-4ffa-92da-7e7fdf6e4c94"
      },
      "source": [
        "#question 60\n",
        "s={'hello':83,'gmm':234,'yara':21324}\n",
        "print(sum(s.values()))"
      ],
      "execution_count": null,
      "outputs": [
        {
          "output_type": "stream",
          "text": [
            "21641\n"
          ],
          "name": "stdout"
        }
      ]
    }
  ]
}