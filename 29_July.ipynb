{
  "nbformat": 4,
  "nbformat_minor": 0,
  "metadata": {
    "colab": {
      "name": "29 July",
      "provenance": []
    },
    "kernelspec": {
      "name": "python3",
      "display_name": "Python 3"
    }
  },
  "cells": [
    {
      "cell_type": "code",
      "metadata": {
        "id": "LNDQeNMLXT_w",
        "colab_type": "code",
        "colab": {
          "base_uri": "https://localhost:8080/",
          "height": 204
        },
        "outputId": "31768316-b2a3-4216-d026-cd8cceeb15d7"
      },
      "source": [
        "print (\"welcome the this encription and decription tool ! please enter what you would like to encrypt \\/\")\n",
        "c = (input(\" what would you like the input ? : \"))\n",
        "x= int(input(\"how many times do you want to shift ?\"))\n",
        "for a in c :\n",
        "  print (ord(a)++x)\n",
        "  print (chr(ord(a)++x))\n",
        "z= (input(\"would you like to decript your messege ? please type yes or no :\"))\n",
        "if (z==\"yes\"):\n",
        "  print (c)\n",
        "else :\n",
        "  print (\"thank you :)\")\n",
        "\n"
      ],
      "execution_count": null,
      "outputs": [
        {
          "output_type": "stream",
          "text": [
            "welcome the this encription and decription tool ! please enter what you would like to encrypt \\/\n",
            " what would you like the input ? : and\n",
            "how many times do you want to shift ?3\n",
            "100\n",
            "d\n",
            "113\n",
            "q\n",
            "103\n",
            "g\n",
            "would you like to decript your messege ? please type yes or no :yes\n",
            "and\n"
          ],
          "name": "stdout"
        }
      ]
    }
  ]
}