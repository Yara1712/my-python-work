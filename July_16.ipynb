{
  "nbformat": 4,
  "nbformat_minor": 0,
  "metadata": {
    "colab": {
      "name": "July 16",
      "provenance": []
    },
    "kernelspec": {
      "name": "python3",
      "display_name": "Python 3"
    }
  },
  "cells": [
    {
      "cell_type": "code",
      "metadata": {
        "id": "CwCXBUjNhaFY",
        "colab_type": "code",
        "colab": {
          "base_uri": "https://localhost:8080/",
          "height": 34
        },
        "outputId": "c10da805-0b32-49f4-bb0f-6b2716b71f2b"
      },
      "source": [
        "a =[\"1\",\"2\"]\n",
        "b=\",\"\n",
        "print (b.join(a))"
      ],
      "execution_count": null,
      "outputs": [
        {
          "output_type": "stream",
          "text": [
            "1,2\n"
          ],
          "name": "stdout"
        }
      ]
    },
    {
      "cell_type": "code",
      "metadata": {
        "id": "QKbF-VqVfBnF",
        "colab_type": "code",
        "colab": {
          "base_uri": "https://localhost:8080/",
          "height": 170
        },
        "outputId": "94daa784-90ee-4319-9196-f1efc222de66"
      },
      "source": [
        "a=\"hello all\"\n",
        "for x in a:\n",
        "  print (x)"
      ],
      "execution_count": null,
      "outputs": [
        {
          "output_type": "stream",
          "text": [
            "h\n",
            "e\n",
            "l\n",
            "l\n",
            "o\n",
            " \n",
            "a\n",
            "l\n",
            "l\n"
          ],
          "name": "stdout"
        }
      ]
    },
    {
      "cell_type": "code",
      "metadata": {
        "id": "eWgurWmtgiqo",
        "colab_type": "code",
        "colab": {
          "base_uri": "https://localhost:8080/",
          "height": 34
        },
        "outputId": "7ddf42c4-a9a7-46f7-d38a-a8e1e05695e4"
      },
      "source": [
        "a= [\"abc\",\"xyz\"]\n",
        "b= \" \"\n",
        "print (b.join(a))"
      ],
      "execution_count": null,
      "outputs": [
        {
          "output_type": "stream",
          "text": [
            "abc xyz\n"
          ],
          "name": "stdout"
        }
      ]
    },
    {
      "cell_type": "code",
      "metadata": {
        "id": "L-MnY5ohhOoV",
        "colab_type": "code",
        "colab": {
          "base_uri": "https://localhost:8080/",
          "height": 51
        },
        "outputId": "a440c3a7-0bb2-4ef2-cabf-f9bdcd1bfc24"
      },
      "source": [
        "a= (input(\"enter words : \"))\n",
        "if (len(a)>3):\n",
        " if (a[0:3]==(\"ing\")):\n",
        "   print (a + \"ly\")\n",
        " else:\n",
        "     print (a+\"ing\")\n",
        "else:\n",
        "  print (a)\n"
      ],
      "execution_count": null,
      "outputs": [
        {
          "output_type": "stream",
          "text": [
            "enter words : hello\n",
            "helloing\n"
          ],
          "name": "stdout"
        }
      ]
    },
    {
      "cell_type": "code",
      "metadata": {
        "id": "0xSerbs_l_cC",
        "colab_type": "code",
        "colab": {
          "base_uri": "https://localhost:8080/",
          "height": 34
        },
        "outputId": "bbe4e840-0818-4987-efb1-0243190f99b3"
      },
      "source": [
        "a=\"hello\"\n",
        "print (a[-1]+a[1:-1]+a[-5])"
      ],
      "execution_count": null,
      "outputs": [
        {
          "output_type": "stream",
          "text": [
            "oellh\n"
          ],
          "name": "stdout"
        }
      ]
    },
    {
      "cell_type": "code",
      "metadata": {
        "id": "Nb35KrmpiP-x",
        "colab_type": "code",
        "colab": {
          "base_uri": "https://localhost:8080/",
          "height": 51
        },
        "outputId": "62ce01ed-a6e4-46f1-d538-08b772507d9a"
      },
      "source": [
        "a=(input(\"enter sentence\"))\n",
        "v=\"\"\n",
        "for x in a :\n",
        "  if (a.index(x)%2==1):\n",
        "     v+=x\n",
        "print(v)\n",
        "\n"
      ],
      "execution_count": null,
      "outputs": [
        {
          "output_type": "stream",
          "text": [
            "enter sentencehi how are you\n",
            "iwaeyu\n"
          ],
          "name": "stdout"
        }
      ]
    },
    {
      "cell_type": "code",
      "metadata": {
        "id": "sw_vuR9hzj2d",
        "colab_type": "code",
        "colab": {
          "base_uri": "https://localhost:8080/",
          "height": 34
        },
        "outputId": "da3af50b-9db9-41a2-aa42-d134052124b3"
      },
      "source": [
        "x= \"indentation\"\n",
        "print (x.index(\"o\"))"
      ],
      "execution_count": null,
      "outputs": [
        {
          "output_type": "stream",
          "text": [
            "9\n"
          ],
          "name": "stdout"
        }
      ]
    },
    {
      "cell_type": "code",
      "metadata": {
        "id": "4mAPNulL1A4W",
        "colab_type": "code",
        "colab": {
          "base_uri": "https://localhost:8080/",
          "height": 34
        },
        "outputId": "4a9736f3-85b2-4862-bebd-944da6add544"
      },
      "source": [
        "a=\"hello\"\n",
        "print (a.count(\"l\"))"
      ],
      "execution_count": null,
      "outputs": [
        {
          "output_type": "stream",
          "text": [
            "2\n"
          ],
          "name": "stdout"
        }
      ]
    },
    {
      "cell_type": "code",
      "metadata": {
        "id": "OZYuQ8-42r8J",
        "colab_type": "code",
        "colab": {
          "base_uri": "https://localhost:8080/",
          "height": 34
        },
        "outputId": "54552f42-693c-49da-c7b0-763da1078753"
      },
      "source": [
        "a == \"hello\"\n",
        "print (a[1]+a[-1])\n",
        "\n"
      ],
      "execution_count": null,
      "outputs": [
        {
          "output_type": "stream",
          "text": [
            "eo\n"
          ],
          "name": "stdout"
        }
      ]
    }
  ]
}